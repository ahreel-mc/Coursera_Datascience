{
 "cells": [
  {
   "cell_type": "markdown",
   "metadata": {},
   "source": [
    "# Stocks Analysis  \n",
    "El siguiente proyecto consiste en una analisis de las siguientes acciones: Tesla, Amazon, AMD, and GameStop, para determinar el rendimiento de cada uno de estas. Se pretende presentar mediante un Dashboard. "
   ]
  },
  {
   "cell_type": "code",
   "execution_count": 1,
   "metadata": {},
   "outputs": [
    {
     "name": "stdout",
     "output_type": "stream",
     "text": [
      "Collecting yfinance==0.2.4\n",
      "  Downloading yfinance-0.2.4-py2.py3-none-any.whl (51 kB)\n",
      "     ---------------------------------------- 0.0/51.4 kB ? eta -:--:--\n",
      "     ------- -------------------------------- 10.2/51.4 kB ? eta -:--:--\n",
      "     ------- -------------------------------- 10.2/51.4 kB ? eta -:--:--\n",
      "     --------------- ---------------------- 20.5/51.4 kB 110.1 kB/s eta 0:00:01\n",
      "     ------------------------------ ------- 41.0/51.4 kB 179.6 kB/s eta 0:00:01\n",
      "     -------------------------------------- 51.4/51.4 kB 188.9 kB/s eta 0:00:00\n",
      "Requirement already satisfied: pandas>=1.3.0 in c:\\users\\ahree\\appdata\\local\\programs\\python\\python311\\lib\\site-packages (from yfinance==0.2.4) (2.1.3)\n",
      "Requirement already satisfied: numpy>=1.16.5 in c:\\users\\ahree\\appdata\\local\\programs\\python\\python311\\lib\\site-packages (from yfinance==0.2.4) (1.26.2)\n",
      "Requirement already satisfied: requests>=2.26 in c:\\users\\ahree\\appdata\\local\\programs\\python\\python311\\lib\\site-packages (from yfinance==0.2.4) (2.31.0)\n",
      "Collecting multitasking>=0.0.7 (from yfinance==0.2.4)\n",
      "  Downloading multitasking-0.0.11-py3-none-any.whl (8.5 kB)\n",
      "Collecting lxml>=4.9.1 (from yfinance==0.2.4)\n",
      "  Downloading lxml-4.9.3-cp311-cp311-win_amd64.whl.metadata (3.9 kB)\n",
      "Collecting appdirs>=1.4.4 (from yfinance==0.2.4)\n",
      "  Downloading appdirs-1.4.4-py2.py3-none-any.whl (9.6 kB)\n",
      "Requirement already satisfied: pytz>=2022.5 in c:\\users\\ahree\\appdata\\local\\programs\\python\\python311\\lib\\site-packages (from yfinance==0.2.4) (2023.3.post1)\n",
      "Collecting frozendict>=2.3.4 (from yfinance==0.2.4)\n",
      "  Downloading frozendict-2.3.10-py3-none-any.whl.metadata (20 kB)\n",
      "Collecting cryptography>=3.3.2 (from yfinance==0.2.4)\n",
      "  Downloading cryptography-41.0.7-cp37-abi3-win_amd64.whl.metadata (5.3 kB)\n",
      "Requirement already satisfied: beautifulsoup4>=4.11.1 in c:\\users\\ahree\\appdata\\local\\programs\\python\\python311\\lib\\site-packages (from yfinance==0.2.4) (4.12.2)\n",
      "Collecting html5lib>=1.1 (from yfinance==0.2.4)\n",
      "  Downloading html5lib-1.1-py2.py3-none-any.whl (112 kB)\n",
      "     ---------------------------------------- 0.0/112.2 kB ? eta -:--:--\n",
      "     -------------- ------------------------ 41.0/112.2 kB 2.0 MB/s eta 0:00:01\n",
      "     ---------------------------------- --- 102.4/112.2 kB 1.2 MB/s eta 0:00:01\n",
      "     -------------------------------------- 112.2/112.2 kB 1.3 MB/s eta 0:00:00\n",
      "Requirement already satisfied: soupsieve>1.2 in c:\\users\\ahree\\appdata\\local\\programs\\python\\python311\\lib\\site-packages (from beautifulsoup4>=4.11.1->yfinance==0.2.4) (2.5)\n",
      "Requirement already satisfied: cffi>=1.12 in c:\\users\\ahree\\appdata\\local\\programs\\python\\python311\\lib\\site-packages (from cryptography>=3.3.2->yfinance==0.2.4) (1.16.0)\n",
      "Requirement already satisfied: six>=1.9 in c:\\users\\ahree\\appdata\\local\\programs\\python\\python311\\lib\\site-packages (from html5lib>=1.1->yfinance==0.2.4) (1.16.0)\n",
      "Requirement already satisfied: webencodings in c:\\users\\ahree\\appdata\\local\\programs\\python\\python311\\lib\\site-packages (from html5lib>=1.1->yfinance==0.2.4) (0.5.1)\n",
      "Requirement already satisfied: python-dateutil>=2.8.2 in c:\\users\\ahree\\appdata\\local\\programs\\python\\python311\\lib\\site-packages (from pandas>=1.3.0->yfinance==0.2.4) (2.8.2)\n",
      "Requirement already satisfied: tzdata>=2022.1 in c:\\users\\ahree\\appdata\\local\\programs\\python\\python311\\lib\\site-packages (from pandas>=1.3.0->yfinance==0.2.4) (2023.3)\n",
      "Requirement already satisfied: charset-normalizer<4,>=2 in c:\\users\\ahree\\appdata\\local\\programs\\python\\python311\\lib\\site-packages (from requests>=2.26->yfinance==0.2.4) (3.3.2)\n",
      "Requirement already satisfied: idna<4,>=2.5 in c:\\users\\ahree\\appdata\\local\\programs\\python\\python311\\lib\\site-packages (from requests>=2.26->yfinance==0.2.4) (3.6)\n",
      "Requirement already satisfied: urllib3<3,>=1.21.1 in c:\\users\\ahree\\appdata\\local\\programs\\python\\python311\\lib\\site-packages (from requests>=2.26->yfinance==0.2.4) (2.1.0)\n",
      "Requirement already satisfied: certifi>=2017.4.17 in c:\\users\\ahree\\appdata\\local\\programs\\python\\python311\\lib\\site-packages (from requests>=2.26->yfinance==0.2.4) (2023.11.17)\n",
      "Requirement already satisfied: pycparser in c:\\users\\ahree\\appdata\\local\\programs\\python\\python311\\lib\\site-packages (from cffi>=1.12->cryptography>=3.3.2->yfinance==0.2.4) (2.21)\n",
      "Downloading cryptography-41.0.7-cp37-abi3-win_amd64.whl (2.7 MB)\n",
      "   ---------------------------------------- 0.0/2.7 MB ? eta -:--:--\n",
      "   - -------------------------------------- 0.1/2.7 MB 3.6 MB/s eta 0:00:01\n",
      "   -- ------------------------------------- 0.2/2.7 MB 2.4 MB/s eta 0:00:02\n",
      "   ------ --------------------------------- 0.4/2.7 MB 3.2 MB/s eta 0:00:01\n",
      "   ------- -------------------------------- 0.5/2.7 MB 2.7 MB/s eta 0:00:01\n",
      "   ---------- ----------------------------- 0.7/2.7 MB 3.5 MB/s eta 0:00:01\n",
      "   ------------- -------------------------- 0.9/2.7 MB 3.6 MB/s eta 0:00:01\n",
      "   ----------------- ---------------------- 1.2/2.7 MB 3.9 MB/s eta 0:00:01\n",
      "   ------------------- -------------------- 1.3/2.7 MB 3.9 MB/s eta 0:00:01\n",
      "   ----------------------- ---------------- 1.6/2.7 MB 4.1 MB/s eta 0:00:01\n",
      "   -------------------------- ------------- 1.7/2.7 MB 4.1 MB/s eta 0:00:01\n",
      "   ------------------------------ --------- 2.0/2.7 MB 4.3 MB/s eta 0:00:01\n",
      "   --------------------------------- ------ 2.2/2.7 MB 4.3 MB/s eta 0:00:01\n",
      "   ----------------------------------- ---- 2.4/2.7 MB 4.2 MB/s eta 0:00:01\n",
      "   ---------------------------------------  2.7/2.7 MB 4.4 MB/s eta 0:00:01\n",
      "   ---------------------------------------- 2.7/2.7 MB 4.3 MB/s eta 0:00:00\n",
      "Downloading frozendict-2.3.10-py3-none-any.whl (14 kB)\n",
      "Downloading lxml-4.9.3-cp311-cp311-win_amd64.whl (3.8 MB)\n",
      "   ---------------------------------------- 0.0/3.8 MB ? eta -:--:--\n",
      "   - -------------------------------------- 0.2/3.8 MB 5.3 MB/s eta 0:00:01\n",
      "   --- ------------------------------------ 0.3/3.8 MB 3.9 MB/s eta 0:00:01\n",
      "   ----- ---------------------------------- 0.5/3.8 MB 3.9 MB/s eta 0:00:01\n",
      "   -------- ------------------------------- 0.8/3.8 MB 4.5 MB/s eta 0:00:01\n",
      "   ---------- ----------------------------- 1.0/3.8 MB 4.6 MB/s eta 0:00:01\n",
      "   ------------ --------------------------- 1.2/3.8 MB 4.7 MB/s eta 0:00:01\n",
      "   --------------- ------------------------ 1.5/3.8 MB 4.9 MB/s eta 0:00:01\n",
      "   ----------------- ---------------------- 1.6/3.8 MB 4.7 MB/s eta 0:00:01\n",
      "   ------------------- -------------------- 1.8/3.8 MB 4.6 MB/s eta 0:00:01\n",
      "   ---------------------- ----------------- 2.1/3.8 MB 4.7 MB/s eta 0:00:01\n",
      "   ------------------------- -------------- 2.4/3.8 MB 4.7 MB/s eta 0:00:01\n",
      "   ---------------------------- ----------- 2.7/3.8 MB 4.8 MB/s eta 0:00:01\n",
      "   ------------------------------ --------- 2.9/3.8 MB 4.9 MB/s eta 0:00:01\n",
      "   ---------------------------------- ----- 3.2/3.8 MB 5.0 MB/s eta 0:00:01\n",
      "   ------------------------------------ --- 3.5/3.8 MB 5.1 MB/s eta 0:00:01\n",
      "   ---------------------------------------  3.7/3.8 MB 5.1 MB/s eta 0:00:01\n",
      "   ---------------------------------------- 3.8/3.8 MB 4.9 MB/s eta 0:00:00\n",
      "Installing collected packages: multitasking, appdirs, lxml, html5lib, frozendict, cryptography, yfinance\n",
      "Successfully installed appdirs-1.4.4 cryptography-41.0.7 frozendict-2.3.10 html5lib-1.1 lxml-4.9.3 multitasking-0.0.11 yfinance-0.2.4\n"
     ]
    }
   ],
   "source": [
    "!pip install yfinance==0.2.4\n"
   ]
  },
  {
   "cell_type": "code",
   "execution_count": 2,
   "metadata": {},
   "outputs": [],
   "source": [
    "import yfinance as yf \n",
    "import pandas as pd"
   ]
  }
 ],
 "metadata": {
  "kernelspec": {
   "display_name": "Python 3",
   "language": "python",
   "name": "python3"
  },
  "language_info": {
   "codemirror_mode": {
    "name": "ipython",
    "version": 3
   },
   "file_extension": ".py",
   "mimetype": "text/x-python",
   "name": "python",
   "nbconvert_exporter": "python",
   "pygments_lexer": "ipython3",
   "version": "3.11.6"
  }
 },
 "nbformat": 4,
 "nbformat_minor": 2
}
