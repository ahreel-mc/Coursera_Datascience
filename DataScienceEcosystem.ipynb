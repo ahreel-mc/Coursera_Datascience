{
 "cells": [
  {
   "cell_type": "markdown",
   "metadata": {},
   "source": [
    "<center>\n",
    "    <img src=\"https://cf-courses-data.s3.us.cloud-object-storage.appdomain.cloud/IBMDeveloperSkillsNetwork-DS0105EN-SkillsNetwork/labs/Module2/images/SN_web_lightmode.png\" width=\"300\" alt=\"cognitiveclass.ai logo\">\n",
    "</center>\n"
   ]
  },
  {
   "cell_type": "markdown",
   "metadata": {},
   "source": [
    "#### Add your code below following the instructions given in the course\n"
   ]
  },
  {
   "cell_type": "markdown",
   "metadata": {},
   "source": [
    "# Data Science Tools and Ecosystem"
   ]
  },
  {
   "cell_type": "markdown",
   "metadata": {
    "tags": []
   },
   "source": [
    "## Introduction \n",
    "\n",
    "In this notebook, Data Science Tools and Ecosystem are summarized."
   ]
  },
  {
   "cell_type": "markdown",
   "metadata": {
    "tags": []
   },
   "source": [
    "__Objectives:__\n",
    "* Create a Jupyter Notebook\n",
    "\n",
    "* Insert code and markdown cells\n",
    "\n",
    "* Share your notebook through GitHub"
   ]
  },
  {
   "cell_type": "markdown",
   "metadata": {},
   "source": [
    "Some of the popular languages that Data Scientists use are:\n",
    "- Python\n",
    "- R\n",
    "- SQL\n",
    "- Java\n",
    "- Julia\n",
    "- Scala\n",
    "- C/C++\n",
    "- etc.\n",
    "\n",
    "\n",
    "Some of the commonly used libraries used by Data Scientists include:\n",
    "\n",
    "- NumPy\n",
    "- Pandas\n",
    "- Matplotlib\n",
    "- Seaborn\n",
    "- Scikit-learn\n",
    "- TensorFlow\n",
    "- PyTorch\n",
    "- Statsmodels\n",
    "- Plotly\n",
    "- Bokeh\n",
    "- Dask\n",
    "- XGBoost\n",
    "- LightGBM\n",
    "\n"
   ]
  },
  {
   "cell_type": "markdown",
   "metadata": {},
   "source": [
    "| Data Science Tools | Description |\n",
    "|---|---|\n",
    "| NumPy | A fundamental library for scientific computing in Python. |\n",
    "| Pandas | A library for data analysis and manipulation. |\n",
    "| Matplotlib | A library for data visualization. |\n",
    "| Seaborn | A statistical data visualization library based on Matplotlib. |\n",
    "| Scikit-learn | A machine learning library that provides a wide range of algorithms for classification, regression, clustering, and other machine learning tasks. |\n",
    "| TensorFlow | A machine learning library that provides a high-level interface for creating and training neural networks. |\n",
    "| PyTorch | A machine learning library that provides a flexible and dynamic interface for creating and training neural networks. |\n",
    "| Statsmodels | A statistical computing and econometrics library for Python. |\n",
    "| Plotly | An interactive data visualization library that provides a wide range of interactive charts and graphs. |\n",
    "| Bokeh | An interactive data visualization library that provides a high-level interface for creating interactive web-based visualizations. |\n",
    "| Dask | A library for parallel computing in Python. |\n",
    "| XGBoost | A scalable and efficient library for gradient boosting trees. |\n",
    "| LightGBM | A fast and distributed library for gradient boosting trees. |"
   ]
  },
  {
   "cell_type": "markdown",
   "metadata": {
    "tags": []
   },
   "source": [
    "### Below are a few examples of evaluating arithmetic expressions in Python.\n",
    "Arithmetic expressions are combinations of numbers and operators that evaluate to a single value. The most common arithmetic operators are addition (+), subtraction (-), multiplication (*), and division (/).\n",
    "\n",
    "Here are some examples of arithmetic expressions:\n",
    "\n",
    "* 1 + 2\n",
    "* 3 - 4\n",
    "* 5 * 6\n",
    "* 7 / 8\n",
    "* (1 + 2) * 3"
   ]
  },
  {
   "cell_type": "code",
   "execution_count": 1,
   "metadata": {
    "tags": []
   },
   "outputs": [
    {
     "data": {
      "text/plain": [
       "17"
      ]
     },
     "execution_count": 1,
     "metadata": {},
     "output_type": "execute_result"
    }
   ],
   "source": [
    "#his a simple arithmetic expression to mutiply then add integers\n",
    "(3*4)+5"
   ]
  },
  {
   "cell_type": "code",
   "execution_count": 2,
   "metadata": {
    "tags": []
   },
   "outputs": [],
   "source": [
    "#This will convert 200 minutes to hours by diving by 60\n",
    "hour = 200/60"
   ]
  },
  {
   "cell_type": "code",
   "execution_count": 5,
   "metadata": {
    "tags": []
   },
   "outputs": [
    {
     "data": {
      "text/plain": [
       "0.875"
      ]
     },
     "execution_count": 5,
     "metadata": {},
     "output_type": "execute_result"
    }
   ],
   "source": [
    "7/8"
   ]
  },
  {
   "cell_type": "markdown",
   "metadata": {},
   "source": [
    "## Author's name\n",
    "\n",
    "Ahreel Molina Chuc"
   ]
  },
  {
   "cell_type": "code",
   "execution_count": null,
   "metadata": {},
   "outputs": [],
   "source": []
  }
 ],
 "metadata": {
  "kernelspec": {
   "display_name": "Python",
   "language": "python",
   "name": "conda-env-python-py"
  },
  "language_info": {
   "codemirror_mode": {
    "name": "ipython",
    "version": 3
   },
   "file_extension": ".py",
   "mimetype": "text/x-python",
   "name": "python",
   "nbconvert_exporter": "python",
   "pygments_lexer": "ipython3",
   "version": "3.7.12"
  }
 },
 "nbformat": 4,
 "nbformat_minor": 4
}
